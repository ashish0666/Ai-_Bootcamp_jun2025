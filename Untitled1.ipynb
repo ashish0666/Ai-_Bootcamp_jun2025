{
  "nbformat": 4,
  "nbformat_minor": 0,
  "metadata": {
    "colab": {
      "provenance": []
    },
    "kernelspec": {
      "name": "python3",
      "display_name": "Python 3"
    },
    "language_info": {
      "name": "python"
    }
  },
  "cells": [
    {
      "cell_type": "code",
      "execution_count": 3,
      "metadata": {
        "colab": {
          "base_uri": "https://localhost:8080/"
        },
        "id": "vaduS8bF0lYT",
        "outputId": "58c44ac5-f031-42f5-adea-f2cbcbeb1de0"
      },
      "outputs": [
        {
          "output_type": "stream",
          "name": "stdout",
          "text": [
            "<bound method NDFrame.head of     Sr. No.  No. Of Phases          States and Union Territories\n",
            "0         1              1                        Andhra Pradesh\n",
            "1         2              1                     Arunachal Pradesh\n",
            "2         3              3                                 Assam\n",
            "3         4              7                                 Bihar\n",
            "4         5              1                                   Goa\n",
            "5         6              1                               Gujarat\n",
            "6         7              1                               Haryana\n",
            "7         8              1                      Himachal Pradesh\n",
            "8         9              2                             Karnataka\n",
            "9        10              1                                Kerala\n",
            "10       11              4                        Madhya Pradesh\n",
            "11       12              5                           Maharashtra\n",
            "12       13              2                               Manipur\n",
            "13       14              1                             Meghalaya\n",
            "14       15              1                               Mizoram\n",
            "15       16              1                              Nagaland\n",
            "16       17              4                                Odisha\n",
            "17       18              1                                Punjab\n",
            "18       19              2                             Rajasthan\n",
            "19       20              1                                Sikkim\n",
            "20       21              1                            Tamil Nadu\n",
            "21       22              2                               Tripura\n",
            "22       23              7                         Uttar Pradesh\n",
            "23       24              7                           West Bengal\n",
            "24       25              3                          Chhattisgarh\n",
            "25       26              4                             Jharkhand\n",
            "26       27              1                           Uttarakhand\n",
            "27       28              1                             Telangana\n",
            "28       29              1             Andaman & Nicobar Islands\n",
            "29       30              1                            Chandigarh\n",
            "30       31              1  Dadra & Nagar Haveli and Daman & Diu\n",
            "31       32              1                          NCT OF Delhi\n",
            "32       33              1                           Lakshadweep\n",
            "33       34              1                            Puducherry\n",
            "34       35              5                     Jammu and Kashmir\n",
            "35       36              1                                Ladakh>\n"
          ]
        }
      ],
      "source": [
        "import pandas as pd\n",
        "df=pd.read_csv(\"/content/1_The_Schedule_of_GE_to_Lok_Sabha_ii_0.csv\")\n",
        "print(df.head)"
      ]
    }
  ]
}